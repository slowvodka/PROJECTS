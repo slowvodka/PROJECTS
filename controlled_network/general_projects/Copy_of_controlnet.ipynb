{
  "cells": [
    {
      "cell_type": "code",
      "execution_count": null,
      "metadata": {},
      "outputs": [],
      "source": [
        "!pip install torch\n",
        "!pip install torchvision"
      ]
    },
    {
      "cell_type": "code",
      "execution_count": 1,
      "metadata": {
        "colab": {
          "base_uri": "https://localhost:8080/"
        },
        "id": "sBbcB4vwj_jm",
        "outputId": "6d80ff34-ac8a-4b0f-afd0-b11491cf976b"
      },
      "outputs": [
        {
          "name": "stdout",
          "output_type": "stream",
          "text": [
            "Requirement already satisfied: fastapi==0.90.1 in /workspace/PROJECTS/.venv/lib/python3.10/site-packages (0.90.1)\n",
            "Requirement already satisfied: pydantic!=1.7,!=1.7.1,!=1.7.2,!=1.7.3,!=1.8,!=1.8.1,<2.0.0,>=1.6.2 in /workspace/PROJECTS/.venv/lib/python3.10/site-packages (from fastapi==0.90.1) (1.10.13)\n",
            "Requirement already satisfied: starlette<0.24.0,>=0.22.0 in /workspace/PROJECTS/.venv/lib/python3.10/site-packages (from fastapi==0.90.1) (0.23.1)\n",
            "Requirement already satisfied: typing-extensions>=4.2.0 in /workspace/PROJECTS/.venv/lib/python3.10/site-packages (from pydantic!=1.7,!=1.7.1,!=1.7.2,!=1.7.3,!=1.8,!=1.8.1,<2.0.0,>=1.6.2->fastapi==0.90.1) (4.8.0)\n",
            "Requirement already satisfied: anyio<5,>=3.4.0 in /workspace/PROJECTS/.venv/lib/python3.10/site-packages (from starlette<0.24.0,>=0.22.0->fastapi==0.90.1) (4.0.0)\n",
            "Requirement already satisfied: idna>=2.8 in /workspace/PROJECTS/.venv/lib/python3.10/site-packages (from anyio<5,>=3.4.0->starlette<0.24.0,>=0.22.0->fastapi==0.90.1) (3.4)\n",
            "Requirement already satisfied: sniffio>=1.1 in /workspace/PROJECTS/.venv/lib/python3.10/site-packages (from anyio<5,>=3.4.0->starlette<0.24.0,>=0.22.0->fastapi==0.90.1) (1.3.0)\n",
            "Requirement already satisfied: exceptiongroup>=1.0.2 in /workspace/PROJECTS/.venv/lib/python3.10/site-packages (from anyio<5,>=3.4.0->starlette<0.24.0,>=0.22.0->fastapi==0.90.1) (1.1.3)\n",
            "fatal: destination path 'stable-diffusion-webui' already exists and is not an empty directory.\n",
            "fatal: destination path '/workspace/PROJECTS/controlled_network/general_projects/stable-diffusion-webui/extensions/sd-webui-controlnet' already exists and is not an empty directory.\n",
            "fatal: destination path '/workspace/PROJECTS/controlled_network/general_projects/stable-diffusion-webui/extensions/openpose-editor' already exists and is not an empty directory.\n",
            "fatal: destination path '/workspace/PROJECTS/controlled_network/general_projects/stable-diffusion-webui/extensions/stable-diffusion-webui-images-browser' already exists and is not an empty directory.\n",
            "fatal: destination path '/workspace/PROJECTS/controlled_network/general_projects/stable-diffusion-webui/extensions/a1111-sd-webui-tagcomplete' already exists and is not an empty directory.\n"
          ]
        }
      ],
      "source": [
        "!pip install --upgrade fastapi==0.90.1\n",
        "!git clone https://github.com/AUTOMATIC1111/stable-diffusion-webui\n",
        "!git clone https://github.com/Mikubill/sd-webui-controlnet /workspace/PROJECTS/controlled_network/general_projects/stable-diffusion-webui/extensions/sd-webui-controlnet\n",
        "!git clone https://github.com/fkunn1326/openpose-editor /workspace/PROJECTS/controlled_network/general_projects/stable-diffusion-webui/extensions/openpose-editor\n",
        "!git clone https://github.com/yfszzx/stable-diffusion-webui-images-browser /workspace/PROJECTS/controlled_network/general_projects/stable-diffusion-webui/extensions/stable-diffusion-webui-images-browser\n",
        "!git clone https://github.com/DominikDoom/a1111-sd-webui-tagcomplete /workspace/PROJECTS/controlled_network/general_projects/stable-diffusion-webui/extensions/a1111-sd-webui-tagcomplete"
      ]
    },
    {
      "cell_type": "code",
      "execution_count": 1,
      "metadata": {},
      "outputs": [
        {
          "name": "stdout",
          "output_type": "stream",
          "text": [
            "  % Total    % Received % Xferd  Average Speed   Time    Time     Time  Current\n",
            "                                 Dload  Upload   Total   Spent    Left  Speed\n",
            "100    29  100    29    0     0    195      0 --:--:-- --:--:-- --:--:--   197\n"
          ]
        },
        {
          "name": "stdout",
          "output_type": "stream",
          "text": [
            "  % Total    % Received % Xferd  Average Speed   Time    Time     Time  Current\n",
            "                                 Dload  Upload   Total   Spent    Left  Speed\n",
            "100    29  100    29    0     0    192      0 --:--:-- --:--:-- --:--:--   193\n",
            "  % Total    % Received % Xferd  Average Speed   Time    Time     Time  Current\n",
            "                                 Dload  Upload   Total   Spent    Left  Speed\n",
            "100  1151  100  1151    0     0   6471      0 --:--:-- --:--:-- --:--:--  6466\n",
            "100  689M  100  689M    0     0   109M      0  0:00:06  0:00:06 --:--:-- 34.0M\n",
            "  % Total    % Received % Xferd  Average Speed   Time    Time     Time  Current\n",
            "                                 Dload  Upload   Total   Spent    Left  Speed\n",
            "100  1153  100  1153    0     0   7700      0 --:--:-- --:--:-- --:--:--  7738\n",
            "100  689M  100  689M    0     0  36.3M      0  0:00:18  0:00:18 --:--:-- 34.0M\n",
            "  % Total    % Received % Xferd  Average Speed   Time    Time     Time  Current\n",
            "                                 Dload  Upload   Total   Spent    Left  Speed\n",
            "100  1155  100  1155    0     0   7877      0 --:--:-- --:--:-- --:--:--     0--:-- --:--:-- --:--:--  7910\n",
            "100  689M  100  689M    0     0  39.7M      0  0:00:17  0:00:17 --:--:-- 34.0M\n",
            "  % Total    % Received % Xferd  Average Speed   Time    Time     Time  Current\n",
            "                                 Dload  Upload   Total   Spent    Left  Speed\n",
            "100  1157  100  1157    0     0   7277      0 --:--:-- --:--:-- --:--:--  7322\n",
            "100  689M  100  689M    0     0  35.9M      0  0:00:19  0:00:19 --:--:-- 34.0M\n",
            "  % Total    % Received % Xferd  Average Speed   Time    Time     Time  Current\n",
            "                                 Dload  Upload   Total   Spent    Left  Speed\n",
            "100  1165  100  1165    0     0   7832      0 --:--:-- --:--:-- --:--:--  7818\n",
            "100  689M  100  689M    0     0  39.6M      0  0:00:17  0:00:17 --:--:-- 34.0M\n",
            "  % Total    % Received % Xferd  Average Speed   Time    Time     Time  Current\n",
            "                                 Dload  Upload   Total   Spent    Left  Speed\n",
            "100  1163  100  1163    0     0   6008      0 --:--:-- --:--:-- --:--:--  6025\n",
            "100  689M  100  689M    0     0  39.7M      0  0:00:17  0:00:17 --:--:-- 34.0M\n",
            "  % Total    % Received % Xferd  Average Speed   Time    Time     Time  Current\n",
            "                                 Dload  Upload   Total   Spent    Left  Speed\n",
            "100  1159  100  1159    0     0   7700      0 --:--:-- --:--:-- --:--:--  7726\n",
            "100  689M  100  689M    0     0  39.7M      0  0:00:17  0:00:17 --:--:-- 34.0M\n",
            "  % Total    % Received % Xferd  Average Speed   Time    Time     Time  Current\n",
            "                                 Dload  Upload   Total   Spent    Left  Speed\n",
            "100  1153  100  1153    0     0   6941      0 --:--:-- --:--:-- --:--:--  6945\n",
            "100  689M  100  689M    0     0  35.6M      0  0:00:19  0:00:19 --:--:-- 34.0M\n",
            "/workspace/PROJECTS/controlled_network/general_projects/stable-diffusion-webui\n",
            "D\tembeddings/Place Textual Inversion embeddings here.txt\n",
            "HEAD is now at 3715ece0 Merge pull request #7717 from zijiren233/master\n",
            "Cloning into 'embeddings'...\n",
            "remote: Enumerating objects: 61, done.\u001b[K\n",
            "remote: Total 61 (delta 0), reused 0 (delta 0), pack-reused 61\u001b[K\n",
            "Unpacking objects: 100% (61/61), 7.62 KiB | 600.00 KiB/s, done.\n",
            "Python 3.10.12 (main, Jun 11 2023, 05:26:28) [GCC 11.4.0]\n",
            "Commit hash: 3715ece0adce7bf7c5e9c5ab3710b2fdc3848f39\n",
            "Traceback (most recent call last):\n",
            "  File \"/workspace/PROJECTS/controlled_network/general_projects/stable-diffusion-webui/launch.py\", line 360, in <module>\n",
            "    prepare_environment()\n",
            "  File \"/workspace/PROJECTS/controlled_network/general_projects/stable-diffusion-webui/launch.py\", line 272, in prepare_environment\n",
            "    run_python(\"import torch; assert torch.cuda.is_available(), 'Torch is not able to use GPU; add --skip-torch-cuda-test to COMMANDLINE_ARGS variable to disable this check'\")\n",
            "  File \"/workspace/PROJECTS/controlled_network/general_projects/stable-diffusion-webui/launch.py\", line 129, in run_python\n",
            "    return run(f'\"{python}\" -c \"{code}\"', desc, errdesc)\n",
            "  File \"/workspace/PROJECTS/controlled_network/general_projects/stable-diffusion-webui/launch.py\", line 105, in run\n",
            "    raise RuntimeError(message)\n",
            "RuntimeError: Error running command.\n",
            "Command: \"/workspace/PROJECTS/.venv/bin/python\" -c \"import torch; assert torch.cuda.is_available(), 'Torch is not able to use GPU; add --skip-torch-cuda-test to COMMANDLINE_ARGS variable to disable this check'\"\n",
            "Error code: 1\n",
            "stdout: <empty>\n",
            "stderr: Traceback (most recent call last):\n",
            "  File \"<string>\", line 1, in <module>\n",
            "AssertionError: Torch is not able to use GPU; add --skip-torch-cuda-test to COMMANDLINE_ARGS variable to disable this check\n",
            "\n",
            "\n"
          ]
        }
      ],
      "source": [
        "# import os\n",
        "# os.makedirs('/workspace/PROJECTS/controlled_network/general_projects/stable-diffusion-webui/extensions/sd-webui-controlnet/models/')\n",
        "\n",
        "\n",
        "# Model(s) setup\n",
        "# Below are model codes for our base model, just pick 1 or 2 to avoid colab crashing out of memory\n",
        "# Our desired model is not in the list? we could always change it ourselves (how-to: https://youtu.be/vj-QrS_mWQI or https://youtu.be/MwyfwPFezvY)\n",
        "# Remove the '#' from the beginning of '!curl' and '!mv' line(s) of our choosen model(s)\n",
        "\n",
        "# STABLE DIFFUSION 1.5\n",
        "#!curl -Lo sd1.5.ckpt https://huggingface.co/nolanaatama/sd15/resolve/main/model.ckpt\n",
        "#!curl -Lo sd1.5.yaml https://huggingface.co/nolanaatama/sd15/raw/main/model.yaml\n",
        "#!mv \"/content/sd1.5.ckpt\" \"/content/stable-diffusion-webui/models/Stable-diffusion\"\n",
        "#!mv \"/content/sd1.5.yaml\" \"/content/stable-diffusion-webui/models/Stable-diffusion\"\n",
        "\n",
        "# REALISTIC VISION\n",
        "#!curl -Lo realisticvisionv1.3.ckpt https://huggingface.co/nolanaatama/rv13/resolve/main/rv13.ckpt\n",
        "#!mv \"/content/realisticvisionv1.3.ckpt\" \"/content/stable-diffusion-webui/models/Stable-diffusion\"\n",
        "\n",
        "# CHILLOUTMIX\n",
        "#!curl -Lo chilloutmixni.safetensors https://huggingface.co/nolanaatama/chomni/resolve/main/chomni.safetensors\n",
        "#!mv \"/content/chilloutmixni.safetensors\" \"/content/stable-diffusion-webui/models/Stable-diffusion\"\n",
        "\n",
        "# DREAMSHAPER\n",
        "#!curl -Lo dreamshaper3.32bvcf.ckpt https://huggingface.co/Lykon/DreamShaper/resolve/main/Dreamshaper_3.32_baked_vae_clip_fix.ckpt\n",
        "#!mv \"/content/dreamshaper3.32bvcf.ckpt\" \"/content/stable-diffusion-webui/models/Stable-diffusion\"\n",
        "\n",
        "# DELIBERATE\n",
        "#!curl -Lo deliberate.ckpt https://huggingface.co/nolanaatama/dlbrt/resolve/main/deliberate.ckpt\n",
        "#!mv \"/content/deliberate.ckpt\" \"/content/stable-diffusion-webui/models/Stable-diffusion\"\n",
        "\n",
        "# ANYTHING V3\n",
        "#!curl -Lo anythingv3.ckpt https://huggingface.co/nolanaatama/av3/resolve/main/av3.ckpt\n",
        "#!curl -Lo anythingv3.vae.pt https://huggingface.co/nolanaatama/av3/resolve/main/av3.vae.pt\n",
        "#!mv \"/content/anythingv3.ckpt\" \"/content/stable-diffusion-webui/models/Stable-diffusion\"\n",
        "#!mv \"/content/anythingv3.vae.pt\" \"/content/stable-diffusion-webui/models/Stable-diffusion\"\n",
        "\n",
        "# ANYTHING V4.5\n",
        "!curl -Lo anythingv4.5.ckpt https://huggingface.co/andite/anything-v4.0/resolve/main/anything-v4.5-pruned.ckpt\n",
        "!curl -Lo anythingv4.5.vae.pt https://huggingface.co/andite/anything-v4.0/resolve/main/anything-v4.0.vae.pt\n",
        "!cp \"/workspace/PROJECTS/controlled_network/general_projects/anythingv4.5.ckpt\" \"/workspace/PROJECTS/controlled_network/general_projects/stable-diffusion-webui/models/Stable-diffusion\"\n",
        "!cp \"/workspace/PROJECTS/controlled_network/general_projects/anythingv4.5.vae.pt\" \"/workspace/PROJECTS/controlled_network/general_projects/stable-diffusion-webui/models/Stable-diffusion\"\n",
        "\n",
        "# ABYSSORANGEMIX2\n",
        "#!curl -Lo abyssorangemix2.safetensors https://huggingface.co/WarriorMama777/OrangeMixs/resolve/main/Models/AbyssOrangeMix2/AbyssOrangeMix2_hard.safetensors\n",
        "#!curl -Lo abyssorangemix2.vae.pt https://huggingface.co/WarriorMama777/OrangeMixs/resolve/main/VAEs/orangemix.vae.pt\n",
        "#!mv \"/content/abyssorangemix2.safetensors\" \"/content/stable-diffusion-webui/models/Stable-diffusion\"\n",
        "#!mv \"/content/abyssorangemix2.vae.pt\" \"/content/stable-diffusion-webui/models/Stable-diffusion\"\n",
        "\n",
        "# PASTEL-MIX\n",
        "#!curl -Lo pastelmix.ckpt https://huggingface.co/andite/pastel-mix/resolve/main/pastelmix-better-vae-fp32.ckpt\n",
        "#!mv \"/content/pastelmix.ckpt\" \"/content/stable-diffusion-webui/models/Stable-diffusion\"\n",
        "\n",
        "# ControlNet\n",
        "# canny\n",
        "!curl -Lo control_canny-fp16.safetensors https://huggingface.co/webui/ControlNet-modules-safetensors/resolve/main/control_canny-fp16.safetensors\n",
        "!cp \"/workspace/PROJECTS/controlled_network/general_projects/control_canny-fp16.safetensors\" \"/workspace/PROJECTS/controlled_network/general_projects/stable-diffusion-webui/extensions/sd-webui-controlnet/models/\"\n",
        "# depth\n",
        "!curl -Lo control_depth-fp16.safetensors https://huggingface.co/webui/ControlNet-modules-safetensors/resolve/main/control_depth-fp16.safetensors\n",
        "!cp \"/workspace/PROJECTS/controlled_network/general_projects/control_depth-fp16.safetensors\" \"/workspace/PROJECTS/controlled_network/general_projects/stable-diffusion-webui/extensions/sd-webui-controlnet/models/\"\n",
        "# hed\n",
        "!curl -Lo control_hed-fp16.safetensors https://huggingface.co/webui/ControlNet-modules-safetensors/resolve/main/control_hed-fp16.safetensors\n",
        "!cp \"/workspace/PROJECTS/controlled_network/general_projects/control_hed-fp16.safetensors\" \"/workspace/PROJECTS/controlled_network/general_projects/stable-diffusion-webui/extensions/sd-webui-controlnet/models/\"\n",
        "# mlsd\n",
        "!curl -Lo control_mlsd-fp16.safetensors https://huggingface.co/webui/ControlNet-modules-safetensors/resolve/main/control_mlsd-fp16.safetensors\n",
        "!cp \"/workspace/PROJECTS/controlled_network/general_projects/control_mlsd-fp16.safetensors\" \"/workspace/PROJECTS/controlled_network/general_projects/stable-diffusion-webui/extensions/sd-webui-controlnet/models/\"\n",
        "# normal\n",
        "!curl -Lo control_normal-fp16.safetensors https://huggingface.co/webui/ControlNet-modules-safetensors/resolve/main/control_normal-fp16.safetensors\n",
        "!cp \"/workspace/PROJECTS/controlled_network/general_projects/control_normal-fp16.safetensors\" \"/workspace/PROJECTS/controlled_network/general_projects/stable-diffusion-webui/extensions/sd-webui-controlnet/models/\"\n",
        "# openpose\n",
        "!curl -Lo control_openpose-fp16.safetensors https://huggingface.co/webui/ControlNet-modules-safetensors/resolve/main/control_openpose-fp16.safetensors\n",
        "!cp \"/workspace/PROJECTS/controlled_network/general_projects/control_openpose-fp16.safetensors\" \"/workspace/PROJECTS/controlled_network/general_projects/stable-diffusion-webui/extensions/sd-webui-controlnet/models/\"\n",
        "# scribble\n",
        "!curl -Lo control_scribble-fp16.safetensors https://huggingface.co/webui/ControlNet-modules-safetensors/resolve/main/control_scribble-fp16.safetensors\n",
        "!cp \"/workspace/PROJECTS/controlled_network/general_projects/control_scribble-fp16.safetensors\" \"/workspace/PROJECTS/controlled_network/general_projects/stable-diffusion-webui/extensions/sd-webui-controlnet/models/\"\n",
        "# seg\n",
        "!curl -Lo control_seg-fp16.safetensors https://huggingface.co/webui/ControlNet-modules-safetensors/resolve/main/control_seg-fp16.safetensors\n",
        "!cp \"/workspace/PROJECTS/controlled_network/general_projects/control_seg-fp16.safetensors\" \"/workspace/PROJECTS/controlled_network/general_projects/stable-diffusion-webui/extensions/sd-webui-controlnet/models/\"\n",
        "\n",
        "import shutil\n",
        "shutil.rmtree('/workspace/PROJECTS/controlled_network/general_projects/stable-diffusion-webui/embeddings')\n"
      ]
    },
    {
      "cell_type": "code",
      "execution_count": null,
      "metadata": {},
      "outputs": [],
      "source": [
        "%cd /workspace/PROJECTS/controlled_network/general_projects/stable-diffusion-webui\n",
        "!git checkout 3715ece\n",
        "!git clone https://huggingface.co/nolanaatama/embeddings\n",
        "!COMMANDLINE_ARGS=\"--share --disable-safe-unpickle --no-half-vae --xformers --reinstall-xformers --enable-insecure-extension-access\" REQS_FILE=\"requirements.txt\" python launch.py"
      ]
    },
    {
      "cell_type": "markdown",
      "metadata": {
        "id": "0DwYF_aLUXKy"
      },
      "source": [
        "## (OPTIONAL) LoRAs"
      ]
    },
    {
      "cell_type": "markdown",
      "metadata": {
        "id": "JUtPlg328avv"
      },
      "source": [
        "### 1. After the gradio link show up, stop the first cell & clear the code output👆"
      ]
    },
    {
      "cell_type": "markdown",
      "metadata": {
        "id": "xy_WyDzNUgd2"
      },
      "source": [
        "### 2. Load the LoRA & launch the web ui"
      ]
    },
    {
      "cell_type": "code",
      "execution_count": null,
      "metadata": {
        "id": "3EOPSiOgUs4z"
      },
      "outputs": [],
      "source": [
        "# Copy the LoRA code from other LoRA setup (download the setup file after editing the LoRA code cell to avoid repeat input for next session)\n",
        "# How-to download the setup file: Click 'File' menu -> 'Download' -> 'Download .ipynb'\n",
        "# Load LoRA from Google Drive: https://youtu.be/G1QZfAPUMaM\n",
        "\n",
        "# LoRA 1\n",
        "#!curl ...\n",
        "#!mv ...\n",
        "\n",
        "# LoRA 2\n",
        "#!curl ...\n",
        "#!mv ...\n",
        "\n",
        "# LoRA 3\n",
        "#!curl ...\n",
        "#!mv ...\n",
        "\n",
        "# ...\n",
        "\n",
        "!COMMANDLINE_ARGS=\"--share --disable-safe-unpickle --no-half-vae --xformers --reinstall-xformers --enable-insecure-extension-access\" REQS_FILE=\"requirements.txt\" python launch.py"
      ]
    },
    {
      "cell_type": "markdown",
      "metadata": {
        "id": "fhwIXzcgfkoR"
      },
      "source": [
        "# 📚 GitHub for more: [_@nolanaatama_](https://github.com/nolanaatama)\n",
        "# 📦 Repo: [Github](https://github.com/nolanaatama/sd-1click-colab)"
      ]
    }
  ],
  "metadata": {
    "accelerator": "GPU",
    "colab": {
      "provenance": []
    },
    "gpuClass": "standard",
    "kernelspec": {
      "display_name": "Python 3",
      "name": "python3"
    },
    "language_info": {
      "codemirror_mode": {
        "name": "ipython",
        "version": 3
      },
      "file_extension": ".py",
      "mimetype": "text/x-python",
      "name": "python",
      "nbconvert_exporter": "python",
      "pygments_lexer": "ipython3",
      "version": "3.10.12"
    }
  },
  "nbformat": 4,
  "nbformat_minor": 0
}
